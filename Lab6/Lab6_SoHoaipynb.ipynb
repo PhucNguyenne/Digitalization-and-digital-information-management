{
  "nbformat": 4,
  "nbformat_minor": 0,
  "metadata": {
    "colab": {
      "provenance": [],
      "gpuType": "T4"
    },
    "kernelspec": {
      "name": "python3",
      "display_name": "Python 3"
    },
    "language_info": {
      "name": "python"
    },
    "accelerator": "GPU"
  },
  "cells": [
    {
      "cell_type": "markdown",
      "source": [],
      "metadata": {
        "id": "j4fAzpnITsyx"
      }
    },
    {
      "cell_type": "markdown",
      "source": [
        "### Cơ bản về PyTorch\n"
      ],
      "metadata": {
        "id": "DUAmLFPBTuPT"
      }
    },
    {
      "cell_type": "code",
      "source": [
        "import torch\n",
        "torch.cuda.current_device()\n",
        "torch.cuda.get_device_name(0)\n"
      ],
      "metadata": {
        "colab": {
          "base_uri": "https://localhost:8080/",
          "height": 35
        },
        "id": "USCDHgB9T0q6",
        "outputId": "51dc300e-3b30-4370-882c-d704b640e3b9"
      },
      "execution_count": 1,
      "outputs": [
        {
          "output_type": "execute_result",
          "data": {
            "text/plain": [
              "'Tesla T4'"
            ],
            "application/vnd.google.colaboratory.intrinsic+json": {
              "type": "string"
            }
          },
          "metadata": {},
          "execution_count": 1
        }
      ]
    },
    {
      "cell_type": "code",
      "source": [
        "# Trả về mức sử dụng bộ nhớ GPU hiện tại theo tensors tính bằng byte cho thiêt bị\n",
        "torch.cuda.memory_allocated()"
      ],
      "metadata": {
        "colab": {
          "base_uri": "https://localhost:8080/"
        },
        "id": "YsfWK2DeW2AT",
        "outputId": "864dc283-9291-4fbb-b6b9-9dec5cda7db7"
      },
      "execution_count": null,
      "outputs": [
        {
          "output_type": "execute_result",
          "data": {
            "text/plain": [
              "0"
            ]
          },
          "metadata": {},
          "execution_count": 3
        }
      ]
    },
    {
      "cell_type": "code",
      "source": [
        "# Trả về bộ nhớ GPU hiện tại được quản lý bởi bộ phân bổ bộ nhớ đệm theo bài\n",
        "torch.cuda.memory_cached()"
      ],
      "metadata": {
        "colab": {
          "base_uri": "https://localhost:8080/"
        },
        "id": "YJUn4w7EXEDr",
        "outputId": "09b509e5-f865-4ade-cbfe-43cd7b8705aa"
      },
      "execution_count": null,
      "outputs": [
        {
          "output_type": "stream",
          "name": "stderr",
          "text": [
            "<ipython-input-4-908b38a90cd5>:2: FutureWarning: `torch.cuda.memory_cached` has been renamed to `torch.cuda.memory_reserved`\n",
            "  torch.cuda.memory_cached()\n"
          ]
        },
        {
          "output_type": "execute_result",
          "data": {
            "text/plain": [
              "0"
            ]
          },
          "metadata": {},
          "execution_count": 4
        }
      ]
    },
    {
      "cell_type": "markdown",
      "source": [
        "Data set with pytorch"
      ],
      "metadata": {
        "id": "m002kQebXqAq"
      }
    },
    {
      "cell_type": "code",
      "source": [
        "# loading data Iris\n",
        "import numpy as np\n",
        "import matplotlib.pyplot as plt\n",
        "import pandas as pd\n",
        "data = pd.read_csv('/content/Iris.csv')\n",
        "data = pd.DataFrame(data)\n",
        "data.head()\n",
        "# data.shape\n",
        "\n"
      ],
      "metadata": {
        "colab": {
          "base_uri": "https://localhost:8080/",
          "height": 206
        },
        "id": "j5vIGqYPXub4",
        "outputId": "f09d3b6c-ddc8-434a-f59f-58bd869c0878"
      },
      "execution_count": 14,
      "outputs": [
        {
          "output_type": "execute_result",
          "data": {
            "text/plain": [
              "   Id  SepalLengthCm  SepalWidthCm  PetalLengthCm  PetalWidthCm      Species\n",
              "0   1            5.1           3.5            1.4           0.2  Iris-setosa\n",
              "1   2            4.9           3.0            1.4           0.2  Iris-setosa\n",
              "2   3            4.7           3.2            1.3           0.2  Iris-setosa\n",
              "3   4            4.6           3.1            1.5           0.2  Iris-setosa\n",
              "4   5            5.0           3.6            1.4           0.2  Iris-setosa"
            ],
            "text/html": [
              "\n",
              "  <div id=\"df-a8e43443-33fd-4804-ba84-ca126c7ef787\" class=\"colab-df-container\">\n",
              "    <div>\n",
              "<style scoped>\n",
              "    .dataframe tbody tr th:only-of-type {\n",
              "        vertical-align: middle;\n",
              "    }\n",
              "\n",
              "    .dataframe tbody tr th {\n",
              "        vertical-align: top;\n",
              "    }\n",
              "\n",
              "    .dataframe thead th {\n",
              "        text-align: right;\n",
              "    }\n",
              "</style>\n",
              "<table border=\"1\" class=\"dataframe\">\n",
              "  <thead>\n",
              "    <tr style=\"text-align: right;\">\n",
              "      <th></th>\n",
              "      <th>Id</th>\n",
              "      <th>SepalLengthCm</th>\n",
              "      <th>SepalWidthCm</th>\n",
              "      <th>PetalLengthCm</th>\n",
              "      <th>PetalWidthCm</th>\n",
              "      <th>Species</th>\n",
              "    </tr>\n",
              "  </thead>\n",
              "  <tbody>\n",
              "    <tr>\n",
              "      <th>0</th>\n",
              "      <td>1</td>\n",
              "      <td>5.1</td>\n",
              "      <td>3.5</td>\n",
              "      <td>1.4</td>\n",
              "      <td>0.2</td>\n",
              "      <td>Iris-setosa</td>\n",
              "    </tr>\n",
              "    <tr>\n",
              "      <th>1</th>\n",
              "      <td>2</td>\n",
              "      <td>4.9</td>\n",
              "      <td>3.0</td>\n",
              "      <td>1.4</td>\n",
              "      <td>0.2</td>\n",
              "      <td>Iris-setosa</td>\n",
              "    </tr>\n",
              "    <tr>\n",
              "      <th>2</th>\n",
              "      <td>3</td>\n",
              "      <td>4.7</td>\n",
              "      <td>3.2</td>\n",
              "      <td>1.3</td>\n",
              "      <td>0.2</td>\n",
              "      <td>Iris-setosa</td>\n",
              "    </tr>\n",
              "    <tr>\n",
              "      <th>3</th>\n",
              "      <td>4</td>\n",
              "      <td>4.6</td>\n",
              "      <td>3.1</td>\n",
              "      <td>1.5</td>\n",
              "      <td>0.2</td>\n",
              "      <td>Iris-setosa</td>\n",
              "    </tr>\n",
              "    <tr>\n",
              "      <th>4</th>\n",
              "      <td>5</td>\n",
              "      <td>5.0</td>\n",
              "      <td>3.6</td>\n",
              "      <td>1.4</td>\n",
              "      <td>0.2</td>\n",
              "      <td>Iris-setosa</td>\n",
              "    </tr>\n",
              "  </tbody>\n",
              "</table>\n",
              "</div>\n",
              "    <div class=\"colab-df-buttons\">\n",
              "\n",
              "  <div class=\"colab-df-container\">\n",
              "    <button class=\"colab-df-convert\" onclick=\"convertToInteractive('df-a8e43443-33fd-4804-ba84-ca126c7ef787')\"\n",
              "            title=\"Convert this dataframe to an interactive table.\"\n",
              "            style=\"display:none;\">\n",
              "\n",
              "  <svg xmlns=\"http://www.w3.org/2000/svg\" height=\"24px\" viewBox=\"0 -960 960 960\">\n",
              "    <path d=\"M120-120v-720h720v720H120Zm60-500h600v-160H180v160Zm220 220h160v-160H400v160Zm0 220h160v-160H400v160ZM180-400h160v-160H180v160Zm440 0h160v-160H620v160ZM180-180h160v-160H180v160Zm440 0h160v-160H620v160Z\"/>\n",
              "  </svg>\n",
              "    </button>\n",
              "\n",
              "  <style>\n",
              "    .colab-df-container {\n",
              "      display:flex;\n",
              "      gap: 12px;\n",
              "    }\n",
              "\n",
              "    .colab-df-convert {\n",
              "      background-color: #E8F0FE;\n",
              "      border: none;\n",
              "      border-radius: 50%;\n",
              "      cursor: pointer;\n",
              "      display: none;\n",
              "      fill: #1967D2;\n",
              "      height: 32px;\n",
              "      padding: 0 0 0 0;\n",
              "      width: 32px;\n",
              "    }\n",
              "\n",
              "    .colab-df-convert:hover {\n",
              "      background-color: #E2EBFA;\n",
              "      box-shadow: 0px 1px 2px rgba(60, 64, 67, 0.3), 0px 1px 3px 1px rgba(60, 64, 67, 0.15);\n",
              "      fill: #174EA6;\n",
              "    }\n",
              "\n",
              "    .colab-df-buttons div {\n",
              "      margin-bottom: 4px;\n",
              "    }\n",
              "\n",
              "    [theme=dark] .colab-df-convert {\n",
              "      background-color: #3B4455;\n",
              "      fill: #D2E3FC;\n",
              "    }\n",
              "\n",
              "    [theme=dark] .colab-df-convert:hover {\n",
              "      background-color: #434B5C;\n",
              "      box-shadow: 0px 1px 3px 1px rgba(0, 0, 0, 0.15);\n",
              "      filter: drop-shadow(0px 1px 2px rgba(0, 0, 0, 0.3));\n",
              "      fill: #FFFFFF;\n",
              "    }\n",
              "  </style>\n",
              "\n",
              "    <script>\n",
              "      const buttonEl =\n",
              "        document.querySelector('#df-a8e43443-33fd-4804-ba84-ca126c7ef787 button.colab-df-convert');\n",
              "      buttonEl.style.display =\n",
              "        google.colab.kernel.accessAllowed ? 'block' : 'none';\n",
              "\n",
              "      async function convertToInteractive(key) {\n",
              "        const element = document.querySelector('#df-a8e43443-33fd-4804-ba84-ca126c7ef787');\n",
              "        const dataTable =\n",
              "          await google.colab.kernel.invokeFunction('convertToInteractive',\n",
              "                                                    [key], {});\n",
              "        if (!dataTable) return;\n",
              "\n",
              "        const docLinkHtml = 'Like what you see? Visit the ' +\n",
              "          '<a target=\"_blank\" href=https://colab.research.google.com/notebooks/data_table.ipynb>data table notebook</a>'\n",
              "          + ' to learn more about interactive tables.';\n",
              "        element.innerHTML = '';\n",
              "        dataTable['output_type'] = 'display_data';\n",
              "        await google.colab.output.renderOutput(dataTable, element);\n",
              "        const docLink = document.createElement('div');\n",
              "        docLink.innerHTML = docLinkHtml;\n",
              "        element.appendChild(docLink);\n",
              "      }\n",
              "    </script>\n",
              "  </div>\n",
              "\n",
              "\n",
              "<div id=\"df-e01c1a48-1cda-4fa5-8c1f-2687bbab0877\">\n",
              "  <button class=\"colab-df-quickchart\" onclick=\"quickchart('df-e01c1a48-1cda-4fa5-8c1f-2687bbab0877')\"\n",
              "            title=\"Suggest charts\"\n",
              "            style=\"display:none;\">\n",
              "\n",
              "<svg xmlns=\"http://www.w3.org/2000/svg\" height=\"24px\"viewBox=\"0 0 24 24\"\n",
              "     width=\"24px\">\n",
              "    <g>\n",
              "        <path d=\"M19 3H5c-1.1 0-2 .9-2 2v14c0 1.1.9 2 2 2h14c1.1 0 2-.9 2-2V5c0-1.1-.9-2-2-2zM9 17H7v-7h2v7zm4 0h-2V7h2v10zm4 0h-2v-4h2v4z\"/>\n",
              "    </g>\n",
              "</svg>\n",
              "  </button>\n",
              "\n",
              "<style>\n",
              "  .colab-df-quickchart {\n",
              "      --bg-color: #E8F0FE;\n",
              "      --fill-color: #1967D2;\n",
              "      --hover-bg-color: #E2EBFA;\n",
              "      --hover-fill-color: #174EA6;\n",
              "      --disabled-fill-color: #AAA;\n",
              "      --disabled-bg-color: #DDD;\n",
              "  }\n",
              "\n",
              "  [theme=dark] .colab-df-quickchart {\n",
              "      --bg-color: #3B4455;\n",
              "      --fill-color: #D2E3FC;\n",
              "      --hover-bg-color: #434B5C;\n",
              "      --hover-fill-color: #FFFFFF;\n",
              "      --disabled-bg-color: #3B4455;\n",
              "      --disabled-fill-color: #666;\n",
              "  }\n",
              "\n",
              "  .colab-df-quickchart {\n",
              "    background-color: var(--bg-color);\n",
              "    border: none;\n",
              "    border-radius: 50%;\n",
              "    cursor: pointer;\n",
              "    display: none;\n",
              "    fill: var(--fill-color);\n",
              "    height: 32px;\n",
              "    padding: 0;\n",
              "    width: 32px;\n",
              "  }\n",
              "\n",
              "  .colab-df-quickchart:hover {\n",
              "    background-color: var(--hover-bg-color);\n",
              "    box-shadow: 0 1px 2px rgba(60, 64, 67, 0.3), 0 1px 3px 1px rgba(60, 64, 67, 0.15);\n",
              "    fill: var(--button-hover-fill-color);\n",
              "  }\n",
              "\n",
              "  .colab-df-quickchart-complete:disabled,\n",
              "  .colab-df-quickchart-complete:disabled:hover {\n",
              "    background-color: var(--disabled-bg-color);\n",
              "    fill: var(--disabled-fill-color);\n",
              "    box-shadow: none;\n",
              "  }\n",
              "\n",
              "  .colab-df-spinner {\n",
              "    border: 2px solid var(--fill-color);\n",
              "    border-color: transparent;\n",
              "    border-bottom-color: var(--fill-color);\n",
              "    animation:\n",
              "      spin 1s steps(1) infinite;\n",
              "  }\n",
              "\n",
              "  @keyframes spin {\n",
              "    0% {\n",
              "      border-color: transparent;\n",
              "      border-bottom-color: var(--fill-color);\n",
              "      border-left-color: var(--fill-color);\n",
              "    }\n",
              "    20% {\n",
              "      border-color: transparent;\n",
              "      border-left-color: var(--fill-color);\n",
              "      border-top-color: var(--fill-color);\n",
              "    }\n",
              "    30% {\n",
              "      border-color: transparent;\n",
              "      border-left-color: var(--fill-color);\n",
              "      border-top-color: var(--fill-color);\n",
              "      border-right-color: var(--fill-color);\n",
              "    }\n",
              "    40% {\n",
              "      border-color: transparent;\n",
              "      border-right-color: var(--fill-color);\n",
              "      border-top-color: var(--fill-color);\n",
              "    }\n",
              "    60% {\n",
              "      border-color: transparent;\n",
              "      border-right-color: var(--fill-color);\n",
              "    }\n",
              "    80% {\n",
              "      border-color: transparent;\n",
              "      border-right-color: var(--fill-color);\n",
              "      border-bottom-color: var(--fill-color);\n",
              "    }\n",
              "    90% {\n",
              "      border-color: transparent;\n",
              "      border-bottom-color: var(--fill-color);\n",
              "    }\n",
              "  }\n",
              "</style>\n",
              "\n",
              "  <script>\n",
              "    async function quickchart(key) {\n",
              "      const quickchartButtonEl =\n",
              "        document.querySelector('#' + key + ' button');\n",
              "      quickchartButtonEl.disabled = true;  // To prevent multiple clicks.\n",
              "      quickchartButtonEl.classList.add('colab-df-spinner');\n",
              "      try {\n",
              "        const charts = await google.colab.kernel.invokeFunction(\n",
              "            'suggestCharts', [key], {});\n",
              "      } catch (error) {\n",
              "        console.error('Error during call to suggestCharts:', error);\n",
              "      }\n",
              "      quickchartButtonEl.classList.remove('colab-df-spinner');\n",
              "      quickchartButtonEl.classList.add('colab-df-quickchart-complete');\n",
              "    }\n",
              "    (() => {\n",
              "      let quickchartButtonEl =\n",
              "        document.querySelector('#df-e01c1a48-1cda-4fa5-8c1f-2687bbab0877 button');\n",
              "      quickchartButtonEl.style.display =\n",
              "        google.colab.kernel.accessAllowed ? 'block' : 'none';\n",
              "    })();\n",
              "  </script>\n",
              "</div>\n",
              "\n",
              "    </div>\n",
              "  </div>\n"
            ],
            "application/vnd.google.colaboratory.intrinsic+json": {
              "type": "dataframe",
              "summary": "{\n  \"name\": \"# data\",\n  \"rows\": 5,\n  \"fields\": [\n    {\n      \"column\": \"Id\",\n      \"properties\": {\n        \"dtype\": \"number\",\n        \"std\": 1,\n        \"min\": 1,\n        \"max\": 5,\n        \"num_unique_values\": 5,\n        \"samples\": [\n          2,\n          5,\n          3\n        ],\n        \"semantic_type\": \"\",\n        \"description\": \"\"\n      }\n    },\n    {\n      \"column\": \"SepalLengthCm\",\n      \"properties\": {\n        \"dtype\": \"number\",\n        \"std\": 0.2073644135332772,\n        \"min\": 4.6,\n        \"max\": 5.1,\n        \"num_unique_values\": 5,\n        \"samples\": [\n          4.9,\n          5.0,\n          4.7\n        ],\n        \"semantic_type\": \"\",\n        \"description\": \"\"\n      }\n    },\n    {\n      \"column\": \"SepalWidthCm\",\n      \"properties\": {\n        \"dtype\": \"number\",\n        \"std\": 0.2588435821108957,\n        \"min\": 3.0,\n        \"max\": 3.6,\n        \"num_unique_values\": 5,\n        \"samples\": [\n          3.0,\n          3.6,\n          3.2\n        ],\n        \"semantic_type\": \"\",\n        \"description\": \"\"\n      }\n    },\n    {\n      \"column\": \"PetalLengthCm\",\n      \"properties\": {\n        \"dtype\": \"number\",\n        \"std\": 0.07071067811865474,\n        \"min\": 1.3,\n        \"max\": 1.5,\n        \"num_unique_values\": 3,\n        \"samples\": [\n          1.4,\n          1.3,\n          1.5\n        ],\n        \"semantic_type\": \"\",\n        \"description\": \"\"\n      }\n    },\n    {\n      \"column\": \"PetalWidthCm\",\n      \"properties\": {\n        \"dtype\": \"number\",\n        \"std\": 0.0,\n        \"min\": 0.2,\n        \"max\": 0.2,\n        \"num_unique_values\": 1,\n        \"samples\": [\n          0.2\n        ],\n        \"semantic_type\": \"\",\n        \"description\": \"\"\n      }\n    },\n    {\n      \"column\": \"Species\",\n      \"properties\": {\n        \"dtype\": \"category\",\n        \"num_unique_values\": 1,\n        \"samples\": [\n          \"Iris-setosa\"\n        ],\n        \"semantic_type\": \"\",\n        \"description\": \"\"\n      }\n    }\n  ]\n}"
            }
          },
          "metadata": {},
          "execution_count": 14
        }
      ]
    },
    {
      "cell_type": "code",
      "source": [
        "from sklearn.preprocessing import LabelEncoder\n",
        "from sklearn.model_selection import train_test_split\n",
        "\n",
        "le = LabelEncoder()\n",
        "X = data.drop([\"Id\", \"Species\"], axis = 1).values\n",
        "y = le.fit_transform(data[\"Species\"].values)\n",
        "\n",
        "X_train, X_test, y_train, y_test = train_test_split(X, y, test_size = 0.2, random_state = 10)\n",
        "X_train = torch.FloatTensor(X_train)\n",
        "X_test = torch.FloatTensor(X_test)\n",
        "y_train = torch.LongTensor(y_train).reshape(-1,1)\n",
        "y_test = torch.LongTensor(y_test).reshape(-1,1)"
      ],
      "metadata": {
        "id": "rLuWTS4WaPdu"
      },
      "execution_count": null,
      "outputs": []
    },
    {
      "cell_type": "code",
      "source": [
        "print(f\"train size: {X_train.shape}\")\n",
        "print(f\"test size: {X_test.shape}\")"
      ],
      "metadata": {
        "colab": {
          "base_uri": "https://localhost:8080/"
        },
        "id": "vedndMIncMmf",
        "outputId": "d7e673f2-660f-4cb9-9d4b-9ad8a1b9580d"
      },
      "execution_count": null,
      "outputs": [
        {
          "output_type": "stream",
          "name": "stdout",
          "text": [
            "train size: torch.Size([120, 4])\n",
            "test size: torch.Size([30, 4])\n"
          ]
        }
      ]
    },
    {
      "cell_type": "code",
      "source": [
        "labels, counts = y_train.unique( return_counts=True)\n",
        "print(labels, counts)"
      ],
      "metadata": {
        "colab": {
          "base_uri": "https://localhost:8080/"
        },
        "id": "yfUvf-xucw02",
        "outputId": "b2a3ce34-bdbb-4d64-ab53-b35eb6d82cf7"
      },
      "execution_count": null,
      "outputs": [
        {
          "output_type": "stream",
          "name": "stdout",
          "text": [
            "tensor([0, 1, 2]) tensor([40, 37, 43])\n"
          ]
        }
      ]
    },
    {
      "cell_type": "code",
      "source": [
        "#  Tính đạo hàm bằng pytorch\n",
        "# y = 2x^4 + x^3 + 3x^2 + 5x + 1\n",
        "# Tạo 1 tensor với requirement_grad được đặt bằng True\n",
        "x = torch.tensor(2.0, requires_grad=True)\n",
        "print(x)\n",
        "print(x.grad)\n",
        "\n",
        "y = 2*x**4 + x**3 + 3*x**2 + 5*x + 1\n",
        "print(y)\n"
      ],
      "metadata": {
        "colab": {
          "base_uri": "https://localhost:8080/"
        },
        "id": "Q_36V-IHd592",
        "outputId": "b69594d6-6003-4350-8998-bb0a2a7de65c"
      },
      "execution_count": null,
      "outputs": [
        {
          "output_type": "stream",
          "name": "stdout",
          "text": [
            "tensor(2., requires_grad=True)\n",
            "None\n",
            "tensor(63., grad_fn=<AddBackward0>)\n"
          ]
        }
      ]
    },
    {
      "cell_type": "code",
      "source": [
        "# Thực hiện truyền ngược và tính toán tất cả các radian\n",
        "y.backward()\n",
        "print(x.grad)"
      ],
      "metadata": {
        "colab": {
          "base_uri": "https://localhost:8080/"
        },
        "id": "LFQRllnHfBG8",
        "outputId": "cf2b72a9-078a-46fc-980f-d7f88e296944"
      },
      "execution_count": null,
      "outputs": [
        {
          "output_type": "stream",
          "name": "stdout",
          "text": [
            "tensor(93.)\n"
          ]
        }
      ]
    },
    {
      "cell_type": "code",
      "source": [
        "import torch\n",
        "\n",
        "# Khởi tạo x\n",
        "x = torch.tensor(2.0, requires_grad=True)\n",
        "print(x)\n",
        "print(x.grad)  # Ban đầu grad là None vì chưa tính đạo hàm\n",
        "\n",
        "# Định nghĩa hàm y\n",
        "y = 5*x**6 + 5*x**4 + 3*x**3 + 5*x + 1\n",
        "print(y)\n",
        "\n",
        "# Tính đạo hàm\n",
        "y.backward()\n",
        "print(x,x.grad)  # Đạo hàm y' tại x = 2"
      ],
      "metadata": {
        "colab": {
          "base_uri": "https://localhost:8080/"
        },
        "id": "dJpulKgefsCx",
        "outputId": "9e36ebe9-766f-48b5-a680-52a745d35f2c"
      },
      "execution_count": null,
      "outputs": [
        {
          "output_type": "stream",
          "name": "stdout",
          "text": [
            "tensor(2., requires_grad=True)\n",
            "None\n",
            "tensor(435., grad_fn=<AddBackward0>)\n",
            "tensor(2., requires_grad=True) tensor(1161.)\n"
          ]
        }
      ]
    },
    {
      "cell_type": "code",
      "source": [
        "# btvn so 1\n",
        "# tạo 1 tensor x cớ giá trị ban đầu là 2.0\n",
        "# Định nghĩa hàm số và tính radian y = x**3 + 2*x**2 + 5*x + 1, Hãy tính dy/dx tại giá trị của x. dùng phương pháp radian descent với learning rate trong = 0.1 trong 10 vòng lặp\n",
        "import torch\n",
        "\n",
        "# 1. Tạo tensor x với giá trị ban đầu là 2.0\n",
        "x = torch.tensor(2.0, requires_grad=True)\n",
        "\n",
        "# 2. Định nghĩa hàm số y = x^3 + 2x^2 + 5x + 1\n",
        "def function(x):\n",
        "    return x**3 + 2*x**2 + 5*x + 1\n",
        "\n",
        "# 3. Gradient Descent với learning rate = 0.1, 10 vòng lặp\n",
        "learning_rate = 0.1\n",
        "num_iterations = 10\n",
        "\n",
        "print(\"Giá trị ban đầu:\")\n",
        "print(f\"x = {x.item():.4f}\")\n",
        "y = function(x)\n",
        "print(f\"y = {y.item():.4f}\\n\")\n",
        "\n",
        "# Vòng lặp Gradient Descent\n",
        "for i in range(num_iterations):\n",
        "    # Tính giá trị hàm\n",
        "    y = function(x)\n",
        "\n",
        "    # Tính gradient (dy/dx)\n",
        "    y.backward()  # Tính đạo hàm\n",
        "    gradient = x.grad\n",
        "\n",
        "    # Cập nhật x bằng gradient descent: x = x - learning_rate * gradient\n",
        "    with torch.no_grad():  # Tạm thời tắt tính gradient khi cập nhật\n",
        "        x -= learning_rate * gradient\n",
        "\n",
        "    # Xóa gradient cũ để chuẩn bị cho vòng lặp tiếp theo\n",
        "    x.grad.zero_()\n",
        "\n",
        "    print(f\"Vòng lặp {i+1}:\")\n",
        "    print(f\"x = {x.item():.4f}\")\n",
        "    print(f\"y = {y.item():.4f}\")\n",
        "    print(f\"dy/dx = {gradient.item():.4f}\\n\")\n",
        "\n"
      ],
      "metadata": {
        "colab": {
          "base_uri": "https://localhost:8080/",
          "height": 0
        },
        "id": "Zt1p3V1OiSf_",
        "outputId": "66727836-19a0-4a96-a6ba-48af1d6ffde0"
      },
      "execution_count": 3,
      "outputs": [
        {
          "output_type": "stream",
          "name": "stdout",
          "text": [
            "Giá trị ban đầu:\n",
            "x = 2.0000\n",
            "y = 27.0000\n",
            "\n",
            "Vòng lặp 1:\n",
            "x = -0.5000\n",
            "y = 27.0000\n",
            "dy/dx = 0.0000\n",
            "\n",
            "Vòng lặp 2:\n",
            "x = -0.8750\n",
            "y = -1.1250\n",
            "dy/dx = 0.0000\n",
            "\n",
            "Vòng lặp 3:\n",
            "x = -1.2547\n",
            "y = -2.5137\n",
            "dy/dx = 0.0000\n",
            "\n",
            "Vòng lặp 4:\n",
            "x = -1.7251\n",
            "y = -4.1001\n",
            "dy/dx = 0.0000\n",
            "\n",
            "Vòng lặp 5:\n",
            "x = -2.4278\n",
            "y = -6.8073\n",
            "dy/dx = 0.0000\n",
            "\n",
            "Vòng lặp 6:\n",
            "x = -3.7250\n",
            "y = -13.6609\n",
            "dy/dx = 0.0000\n",
            "\n",
            "Vòng lặp 7:\n",
            "x = -6.8977\n",
            "y = -41.5604\n",
            "dy/dx = 0.0000\n",
            "\n",
            "Vòng lặp 8:\n",
            "x = -18.9120\n",
            "y = -266.5102\n",
            "dy/dx = 0.0000\n",
            "\n",
            "Vòng lặp 9:\n",
            "x = -119.1464\n",
            "y = -6142.3750\n",
            "dy/dx = 0.0000\n",
            "\n",
            "Vòng lặp 10:\n",
            "x = -4330.7476\n",
            "y = -1663589.5000\n",
            "dy/dx = 0.0000\n",
            "\n"
          ]
        }
      ]
    },
    {
      "cell_type": "code",
      "source": [
        "# Btvn 2\n",
        "# Tạo 1 số tập dữ liệu giả lập với x là số giờ học từ 1 -10 và y là số điểm được tính theo công thức\n",
        "# y = 3*x + 5 + noise với noise là 1 giá trị ngẫu nhiên nhỏ\n",
        "# 1. Khởi tạo tham số w và b ngẫu nhiên với require_grad = true\n",
        "# 2. tính mse\n",
        "# 3. tính gradient\n",
        "# 4. cập nhật w và b bằng radianr descent với learing rate alpha = 0.01\n",
        "# 5. lập lại giá trị trên trong 100 vòng lặp và quan sát sự hội tụ của mô hình\n",
        "import torch\n",
        "import numpy as np\n",
        "\n",
        "# 1. Tạo tập dữ liệu giả lập\n",
        "torch.manual_seed(42)  # Để kết quả có thể tái hiện\n",
        "x = torch.linspace(1, 10, 10)  # x từ 1 đến 10\n",
        "noise = torch.randn(10) * 0.1  # Noise ngẫu nhiên nhỏ\n",
        "y = 3 * x + 5 + noise  # y = 3x + 5 + noise\n",
        "\n",
        "# 2. Khởi tạo tham số w và b ngẫu nhiên\n",
        "w = torch.randn(1, requires_grad=True)\n",
        "b = torch.randn(1, requires_grad=True)\n",
        "\n",
        "# 3. Định nghĩa hàm dự đoán và MSE loss\n",
        "def predict(x):\n",
        "    return w * x + b\n",
        "\n",
        "def mse_loss(y_pred, y_true):\n",
        "    return ((y_pred - y_true) ** 2).mean()\n",
        "\n",
        "# 4. Gradient Descent\n",
        "learning_rate = 0.01\n",
        "num_iterations = 100\n",
        "\n",
        "# Lưu giá trị loss để quan sát\n",
        "losses = []\n",
        "\n",
        "print(\"Giá trị ban đầu:\")\n",
        "print(f\"w = {w.item():.4f}, b = {b.item():.4f}\\n\")\n",
        "\n",
        "# 5. Training loop\n",
        "for i in range(num_iterations):\n",
        "    # Forward pass\n",
        "    y_pred = predict(x)\n",
        "    loss = mse_loss(y_pred, y)\n",
        "\n",
        "    # Backward pass\n",
        "    loss.backward()\n",
        "\n",
        "    # Cập nhật tham số\n",
        "    with torch.no_grad():\n",
        "        w -= learning_rate * w.grad\n",
        "        b -= learning_rate * b.grad\n",
        "\n",
        "        # Reset gradient\n",
        "        w.grad.zero_()\n",
        "        b.grad.zero_()\n",
        "\n",
        "    # Lưu loss\n",
        "    losses.append(loss.item())\n",
        "\n",
        "    # In kết quả mỗi 10 vòng lặp\n",
        "    if (i + 1) % 10 == 0:\n",
        "        print(f\"Vòng lặp {i+1}:\")\n",
        "        print(f\"Loss = {loss.item():.4f}\")\n",
        "        print(f\"w = {w.item():.4f}, b = {b.item():.4f}\\n\")\n",
        "\n",
        "# In kết quả cuối cùng\n",
        "print(\"Kết quả cuối cùng:\")\n",
        "print(f\"w = {w.item():.4f} (thực tế: 3)\")\n",
        "print(f\"b = {b.item():.4f} (thực tế: 5)\")\n",
        "\n",
        "# Vẽ đồ thị loss (tuỳ chọn)\n",
        "import matplotlib.pyplot as plt\n",
        "plt.plot(losses)\n",
        "plt.xlabel('Iteration')\n",
        "plt.ylabel('MSE Loss')\n",
        "plt.title('Loss Convergence')\n",
        "plt.show()\n"
      ],
      "metadata": {
        "id": "-kEH6bedi6bT",
        "colab": {
          "base_uri": "https://localhost:8080/",
          "height": 1270
        },
        "outputId": "327488b0-5f67-4de0-c8e4-2f48902e51f2"
      },
      "execution_count": 11,
      "outputs": [
        {
          "output_type": "stream",
          "name": "stdout",
          "text": [
            "Giá trị ban đầu:\n",
            "w = 0.5349, b = 0.8094\n",
            "\n",
            "Vòng lặp 10:\n",
            "Loss = 2.8210\n",
            "w = 3.5209, b = 1.3966\n",
            "\n",
            "Vòng lặp 20:\n",
            "Loss = 2.5938\n",
            "w = 3.4995, b = 1.5453\n",
            "\n",
            "Vòng lặp 30:\n",
            "Loss = 2.3850\n",
            "w = 3.4791, b = 1.6879\n",
            "\n",
            "Vòng lặp 40:\n",
            "Loss = 2.1930\n",
            "w = 3.4594, b = 1.8246\n",
            "\n",
            "Vòng lặp 50:\n",
            "Loss = 2.0165\n",
            "w = 3.4406, b = 1.9556\n",
            "\n",
            "Vòng lặp 60:\n",
            "Loss = 1.8543\n",
            "w = 3.4225, b = 2.0813\n",
            "\n",
            "Vòng lặp 70:\n",
            "Loss = 1.7051\n",
            "w = 3.4052, b = 2.2018\n",
            "\n",
            "Vòng lặp 80:\n",
            "Loss = 1.5680\n",
            "w = 3.3886, b = 2.3173\n",
            "\n",
            "Vòng lặp 90:\n",
            "Loss = 1.4420\n",
            "w = 3.3727, b = 2.4281\n",
            "\n",
            "Vòng lặp 100:\n",
            "Loss = 1.3261\n",
            "w = 3.3575, b = 2.5343\n",
            "\n",
            "Kết quả cuối cùng:\n",
            "w = 3.3575 (thực tế: 3)\n",
            "b = 2.5343 (thực tế: 5)\n"
          ]
        },
        {
          "output_type": "display_data",
          "data": {
            "text/plain": [
              "<Figure size 640x480 with 1 Axes>"
            ],
            "image/png": "[encoded data removed]"
          },
          "metadata": {}
        }
      ]
    },
    {
      "cell_type": "code",
      "source": [
        "# pytorch with tensor\n",
        "import torch\n",
        "import numpy as np\n",
        "\n",
        "torch.__version__\n",
        "\n",
        "#  chuyển đổi mảng numpy sang tensor pytorch\n",
        "arr = np.array([1,2,3,4,5])\n",
        "print(arr)\n",
        "print(arr.dtype)\n",
        "print(type(arr))\n",
        "\n",
        "x = torch.from_numpy(arr)\n",
        "print(x)\n",
        "print(x.dtype)\n",
        "print(type(x))"
      ],
      "metadata": {
        "colab": {
          "base_uri": "https://localhost:8080/"
        },
        "id": "TJ3ju_wikG2H",
        "outputId": "a3c483e8-7119-4197-a607-32ab7317253e"
      },
      "execution_count": null,
      "outputs": [
        {
          "output_type": "stream",
          "name": "stdout",
          "text": [
            "[1 2 3 4 5]\n",
            "int64\n",
            "<class 'numpy.ndarray'>\n",
            "tensor([1, 2, 3, 4, 5])\n",
            "torch.int64\n",
            "<class 'torch.Tensor'>\n"
          ]
        }
      ]
    },
    {
      "cell_type": "code",
      "source": [
        "arr2 = np.arange(0.,12.).reshape(4,3)\n",
        "print(arr2)\n",
        "print(arr2.dtype)\n",
        "print(type(arr2))\n",
        "\n",
        "x2 = torch.from_numpy(arr2)\n",
        "print(x2)\n",
        "print(type(x2))"
      ],
      "metadata": {
        "colab": {
          "base_uri": "https://localhost:8080/"
        },
        "id": "XlqyheU_lXv7",
        "outputId": "d232a191-3e89-4828-aa17-2a174698028c"
      },
      "execution_count": null,
      "outputs": [
        {
          "output_type": "stream",
          "name": "stdout",
          "text": [
            "[[ 0.  1.  2.]\n",
            " [ 3.  4.  5.]\n",
            " [ 6.  7.  8.]\n",
            " [ 9. 10. 11.]]\n",
            "float64\n",
            "<class 'numpy.ndarray'>\n",
            "tensor([[ 0.,  1.,  2.],\n",
            "        [ 3.,  4.,  5.],\n",
            "        [ 6.,  7.,  8.],\n",
            "        [ 9., 10., 11.]], dtype=torch.float64)\n",
            "<class 'torch.Tensor'>\n"
          ]
        }
      ]
    },
    {
      "cell_type": "code",
      "source": [
        "arr = np.arange(0,5)\n",
        "x = torch.from_numpy(arr)\n",
        "print(x)\n",
        "arr[0] = 99\n",
        "print(x)"
      ],
      "metadata": {
        "colab": {
          "base_uri": "https://localhost:8080/",
          "height": 0
        },
        "id": "1loO2QCpmHcD",
        "outputId": "48f82712-c7be-4a10-87ba-b442a40faebc"
      },
      "execution_count": 7,
      "outputs": [
        {
          "output_type": "stream",
          "name": "stdout",
          "text": [
            "tensor([0, 1, 2, 3, 4])\n",
            "tensor([99,  1,  2,  3,  4])\n"
          ]
        }
      ]
    },
    {
      "cell_type": "code",
      "source": [
        "\n",
        "arr = np.arange(0,5)\n",
        "x = torch.tensor(arr)\n",
        "arr[0] = 99\n",
        "print(x)\n",
        "print(x)\n",
        "# Giải thích lý do tại sao có 2 trường hợp sau\n",
        "# Giải thích: ở cách 1, sử dụng from_numpy giúp có thể thay đổi giá trị thứ [i] trong arr, còn cách 2 dùng tensor không thay đổi được theo index [i]"
      ],
      "metadata": {
        "id": "Q084s_-VnQjz",
        "colab": {
          "base_uri": "https://localhost:8080/",
          "height": 0
        },
        "outputId": "9a193f18-09e9-4af3-b57a-8bc5dc8c0a8c"
      },
      "execution_count": 9,
      "outputs": [
        {
          "output_type": "stream",
          "name": "stdout",
          "text": [
            "tensor([0, 1, 2, 3, 4])\n",
            "tensor([0, 1, 2, 3, 4])\n"
          ]
        }
      ]
    },
    {
      "cell_type": "code",
      "source": [
        "# Tạo tensor với:\n",
        "# empyty\n",
        "# zeros\n",
        "# ones\n",
        "# random\n",
        "# reshape với view và view as\n",
        "\n",
        "import torch\n",
        "\n",
        "# 1. Tạo tensor empty (rỗng - chứa giá trị ngẫu nhiên chưa khởi tạo)\n",
        "empty_tensor = torch.empty(2, 3)  # tensor 2x3\n",
        "print(\"Empty tensor:\")\n",
        "print(empty_tensor)\n",
        "print()\n",
        "\n",
        "# 2. Tạo tensor zeros (toàn số 0)\n",
        "zeros_tensor = torch.zeros(2, 3)  # tensor 2x3\n",
        "print(\"Zeros tensor:\")\n",
        "print(zeros_tensor)\n",
        "print()\n",
        "\n",
        "# 3. Tạo tensor ones (toàn số 1)\n",
        "ones_tensor = torch.ones(2, 3)  # tensor 2x3\n",
        "print(\"Ones tensor:\")\n",
        "print(ones_tensor)\n",
        "print()\n",
        "\n",
        "# 4. Tạo tensor random (giá trị ngẫu nhiên)\n",
        "random_tensor = torch.rand(2, 3)  # tensor 2x3, giá trị ngẫu nhiên từ 0-1\n",
        "print(\"Random tensor:\")\n",
        "print(random_tensor)\n",
        "print()\n",
        "\n",
        "# 5. Reshape với view và view_as\n",
        "# Tạo tensor mẫu\n",
        "original_tensor = torch.arange(12)  # tensor [0, 1, 2, ..., 11]\n",
        "print(\"Original tensor:\")\n",
        "print(original_tensor)\n",
        "print()\n",
        "\n",
        "# Sử dụng view() để reshape thành 3x4\n",
        "viewed_tensor = original_tensor.view(3, 4)\n",
        "print(\"After view(3, 4):\")\n",
        "print(viewed_tensor)\n",
        "print()\n",
        "\n",
        "# Sử dụng view() để reshape thành 2x6\n",
        "viewed_tensor2 = original_tensor.view(2, 6)\n",
        "print(\"After view(2, 6):\")\n",
        "print(viewed_tensor2)\n",
        "print()\n",
        "\n",
        "# Sử dụng view_as() để reshape giống một tensor khác\n",
        "target_tensor = torch.zeros(4, 3)  # tensor mẫu để lấy shape\n",
        "viewed_as_tensor = original_tensor.view_as(target_tensor)\n",
        "print(\"After view_as(target_tensor) - shape giống 4x3:\")\n",
        "print(viewed_as_tensor)"
      ],
      "metadata": {
        "id": "TQJhvzcIn4Xg",
        "colab": {
          "base_uri": "https://localhost:8080/",
          "height": 0
        },
        "outputId": "a9b069a7-c6ea-419c-e813-ce7716f56d58"
      },
      "execution_count": 12,
      "outputs": [
        {
          "output_type": "stream",
          "name": "stdout",
          "text": [
            "Empty tensor:\n",
            "tensor([[6.3550e-20, 4.4938e-41, 2.6844e-33],\n",
            "        [0.0000e+00, 0.0000e+00, 6.3227e-42]])\n",
            "\n",
            "Zeros tensor:\n",
            "tensor([[0., 0., 0.],\n",
            "        [0., 0., 0.]])\n",
            "\n",
            "Ones tensor:\n",
            "tensor([[1., 1., 1.],\n",
            "        [1., 1., 1.]])\n",
            "\n",
            "Random tensor:\n",
            "tensor([[0.1053, 0.2695, 0.3588],\n",
            "        [0.1994, 0.5472, 0.0062]])\n",
            "\n",
            "Original tensor:\n",
            "tensor([ 0,  1,  2,  3,  4,  5,  6,  7,  8,  9, 10, 11])\n",
            "\n",
            "After view(3, 4):\n",
            "tensor([[ 0,  1,  2,  3],\n",
            "        [ 4,  5,  6,  7],\n",
            "        [ 8,  9, 10, 11]])\n",
            "\n",
            "After view(2, 6):\n",
            "tensor([[ 0,  1,  2,  3,  4,  5],\n",
            "        [ 6,  7,  8,  9, 10, 11]])\n",
            "\n",
            "After view_as(target_tensor) - shape giống 4x3:\n",
            "tensor([[ 0,  1,  2],\n",
            "        [ 3,  4,  5],\n",
            "        [ 6,  7,  8],\n",
            "        [ 9, 10, 11]])\n"
          ]
        }
      ]
    },
    {
      "cell_type": "code",
      "source": [],
      "metadata": {
        "id": "vmkiBeOPn8Ns"
      },
      "execution_count": null,
      "outputs": []
    }
  ]
}