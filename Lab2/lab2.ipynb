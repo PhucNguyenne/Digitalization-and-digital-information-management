{
 "cells": [
  {
   "cell_type": "markdown",
   "metadata": {},
   "source": [
    "# Lab2: Lab1 nâng cao\n",
    "## 1. Numpy"
   ]
  },
  {
   "cell_type": "code",
   "execution_count": 17,
   "metadata": {},
   "outputs": [
    {
     "name": "stdout",
     "output_type": "stream",
     "text": [
      "3\n",
      "[1 2 3]\n",
      "[3 4 5 6 7 8]\n",
      "[3 4 5 6 7]\n",
      "[7 8]\n",
      "3 5\n",
      "[3 5]\n"
     ]
    }
   ],
   "source": [
    "import numpy as np\n",
    "\n",
    "x = np.array([1, 2, 3, 4, 5, 6, 7, 8])\n",
    "\n",
    "# Lấy số \"3\"\n",
    "print(x[2])\n",
    "\n",
    "# lấy giá trị 123\n",
    "print(x[:3])\n",
    "\n",
    "# lấy từ 3 đến 8\n",
    "print(x[2:])\n",
    "\n",
    "# lấy từ 3 đến 7\n",
    "print(x[2:-1])\n",
    "\n",
    "# lấy ra số 7 và 8\n",
    "print(x[-2:])\n",
    "\n",
    "# lấy phần tử 2 và 4\n",
    "print(x[2], x[4])\n",
    "print(x[[2, 4]])\n",
    "\n",
    "\n",
    "\n",
    "\n"
   ]
  },
  {
   "cell_type": "code",
   "execution_count": 30,
   "metadata": {},
   "outputs": [
    {
     "name": "stdout",
     "output_type": "stream",
     "text": [
      "[[1 2]\n",
      " [3 4]\n",
      " [5 6]]\n",
      "2\n",
      "6\n",
      "[[3 4]\n",
      " [5 6]]\n",
      "[[3 4]\n",
      " [5 6]]\n",
      "[3 4] [5 6]\n",
      "[[3 4]\n",
      " [5 6]]\n",
      "[[3 4]\n",
      " [5 6]]\n",
      "[[3 4]\n",
      " [5 6]]\n",
      "[1 3 5]\n",
      "[1 5]\n",
      "[1 5]\n",
      "[1 5]\n"
     ]
    }
   ],
   "source": [
    "# tạo mảng 2 chiều\n",
    "\n",
    "data = [[1, 2], [3,4], [5,6]]\n",
    "mang = np.array(data)\n",
    "print(mang)\n",
    "\n",
    "print(mang[0,1])\n",
    "\n",
    "print(mang[-1,-1])\n",
    "\n",
    "print(mang[[1,2]])\n",
    "\n",
    "print(mang[1:, :])\n",
    "\n",
    "print(mang[1], mang[2])\n",
    "\n",
    "# cách khác\n",
    "\n",
    "print(mang[1:])\n",
    "print(mang[1:3])\n",
    "\n",
    "# cách khác dùng -\n",
    "print(mang[-2:])\n",
    "\n",
    "# lấy 1,3,5\n",
    "print(mang[:, 0])\n",
    "\n",
    "# lấy 1,5\n",
    "print(mang[[0,2], 0])\n",
    "\n",
    "# lấy 1 và 5 theo fomat start:stop:step\n",
    "print(mang[::2, 0])\n",
    "\n",
    "# cách khác\n",
    "print(mang[[0,2], 0])\n"
   ]
  },
  {
   "cell_type": "code",
   "execution_count": 31,
   "metadata": {},
   "outputs": [
    {
     "name": "stdout",
     "output_type": "stream",
     "text": [
      "[[ 1  2  3  4]\n",
      " [ 5  6  7  8]\n",
      " [ 9 10 11 12]\n",
      " [13 14 15 16]]\n"
     ]
    }
   ],
   "source": [
    "X = [\n",
    "    [1, 2, 3, 4],\n",
    "    [5, 6, 7, 8],\n",
    "    [9, 10,11,12],\n",
    "    [13,14,15,16]\n",
    "]\n",
    "\n",
    "x = np.array(X)\n",
    "print(x)\n",
    "\n"
   ]
  },
  {
   "cell_type": "code",
   "execution_count": 47,
   "metadata": {},
   "outputs": [
    {
     "name": "stdout",
     "output_type": "stream",
     "text": [
      "[ 2  6 10 14]\n",
      "[ 7 11]\n",
      "4 7 10\n",
      "16 15 14 13\n",
      "[16 15 14 13]\n",
      "[16 15 14 13]\n"
     ]
    }
   ],
   "source": [
    "# lấy 2,6,10,14\n",
    "print(x[:, 1])\n",
    "\n",
    "# lấy 7,11\n",
    "print(x[1:3, 2])\n",
    "\n",
    "# lấy 4,7,10\n",
    "print(x[0, 3], x[1, 2], x[2, 1])\n",
    "\n",
    "# lấy 16 15 14 13\n",
    "print(x[-1, -1], x[-1, -2], x[-1, -3], x[-1, -4])\n",
    "print(x[3,::-1])\n",
    "\n",
    "print(x[-1, -1::-1])"
   ]
  },
  {
   "cell_type": "code",
   "execution_count": 50,
   "metadata": {},
   "outputs": [],
   "source": [
    "# Bài tập: \n",
    "# Cho ma trận sau: \n",
    "# [[ 99  99  99 ]\n",
    "#  [ 99  99  99 ]\n",
    "#  [ 99  99  99 ]]\n",
    "\n",
    "#  Giả sử: 0 = O và 1 là X\n",
    "#  Nhận đầu vào từ phía X và O luân phiên\n",
    "#  cho các bạn 1 cặp chỉ số, nếu phía nhập (0,0) thì ma trận trở thành\n",
    "\n",
    "# [[ X  99  99 ]\n",
    "#  [ 99  99  99 ]\n",
    "#  [ 99  99  99 ]]\n",
    "\n",
    "#  Nếu phía O nhập (0,0) (trùng với X) thì yêu cầu nhập lại, nếu không thì điền vào ma trận\n",
    " "
   ]
  },
  {
   "cell_type": "code",
   "execution_count": 75,
   "metadata": {},
   "outputs": [
    {
     "name": "stdout",
     "output_type": "stream",
     "text": [
      "[4 5 6]\n",
      "[2 5]\n",
      "3 4\n",
      "3 4\n",
      "[3 4]\n",
      "9 6 3\n",
      "[9 6 3]\n"
     ]
    }
   ],
   "source": [
    "# BT:\n",
    "# Cho ma trận \n",
    "# [\n",
    "#     [1, 2, 3],\n",
    "#     [4, 5, 6],\n",
    "#     [7, 8, 9]\n",
    "# ]\n",
    "\n",
    "x = np.array([[1, 2, 3],\n",
    "     [4, 5, 6],\n",
    "     [7, 8, 9]])\n",
    "# 1. Lấy ra số 4 5 6\n",
    "print(x[1])\n",
    "\n",
    "# 2. Lấy ra số 2 5 \n",
    "print(x[:2, 1])\n",
    "# 3. Lấy ra số 3 4\n",
    "print(x[0, 2], x[1, 0])\n",
    "# cach khac\n",
    "print(x[0, -1], x[1, 0])\n",
    "# cach khac\n",
    "print(x[[0,1], [2, 0]])\n",
    "# 4. Lấy ra số 9 6 3\n",
    "print(x[2, 2], x[1, 2], x[0, 2])\n",
    "\n",
    "print(x[::-1, 2])"
   ]
  },
  {
   "cell_type": "code",
   "execution_count": 88,
   "metadata": {},
   "outputs": [
    {
     "name": "stdout",
     "output_type": "stream",
     "text": [
      "[2, 4, 6, 8, 10]\n",
      "[[1. 1. 1.]\n",
      " [1. 1. 1.]\n",
      " [1. 1. 1.]]\n",
      "[[1. 2. 3.]\n",
      " [1. 2. 3.]\n",
      " [1. 2. 3.]]\n"
     ]
    }
   ],
   "source": [
    "x = np.array([1, 2, 3,4,5,6,7,8,9,10])\n",
    "\n",
    "mang_chan = [ _ for _ in x if _ % 2 == 0]\n",
    "print(mang_chan)\n",
    "\n",
    "# tạo 1 mảng toàn số 1\n",
    "mang_1 = np.ones((3,3))\n",
    "\n",
    "print(mang_1)\n",
    "\n",
    "m3 = np.arange(3)\n",
    "print(mang_1 + m3)\n",
    "\n",
    "\n"
   ]
  },
  {
   "cell_type": "code",
   "execution_count": 103,
   "metadata": {},
   "outputs": [
    {
     "name": "stdout",
     "output_type": "stream",
     "text": [
      "3\n",
      "(3,)\n",
      "3\n",
      "[[0 1 2]\n",
      " [1 2 3]\n",
      " [2 3 4]]\n"
     ]
    }
   ],
   "source": [
    "x = np.arange(3)\n",
    "print(len(x))\n",
    "print(x.shape)\n",
    "print(x.size)\n",
    "\n",
    "x = x.reshape((3,1))\n",
    "print(x)\n",
    "\n",
    "y = np.arange(3)\n",
    "\n",
    "print(x+y)\n"
   ]
  },
  {
   "cell_type": "code",
   "execution_count": 114,
   "metadata": {},
   "outputs": [
    {
     "name": "stdout",
     "output_type": "stream",
     "text": [
      "(105, 4) (45, 4)\n",
      "10\n",
      "(10, 4)\n",
      "(10, 4)\n",
      "(10, 4)\n",
      "(10, 4)\n",
      "(10, 4)\n",
      "(10, 4)\n",
      "(10, 4)\n",
      "(10, 4)\n",
      "(10, 4)\n",
      "(10, 4)\n",
      "(5, 4)\n"
     ]
    }
   ],
   "source": [
    "\n",
    "\n",
    "# Bài tập về nhà\n",
    "# Tạo mảng np có khích thước 150x5 hãy tưởng tượng mảng này chứa 150 mẫu về chiều cao, cân nặng, tuổi, lương ,gpa của sinh viên.\n",
    "# Chia mảng 4 cột đầu tiên thành 1 biến có tên là x và cột cuối cùng bằng y.\n",
    "# Chia x thành  X_train và X_test chứa lần lượt là 70% và 30% dữ liệu, trong đó Y_train, Y_test , Y_trans chứa 70% dữ liệu. \n",
    "\n",
    "\n",
    "# Tạo mảng np có kích thước 150x5\n",
    "data = np.random.uniform(0, 10,(150, 5))\n",
    "\n",
    "# Chia mảng 4 cột đầu tiên thành 1 biến có tên là x và cột cuối cùng bằng y\n",
    "x = data[:, :-1]\n",
    "y = data[:, -1]\n",
    "\n",
    "dataset_size = x.shape[0]\n",
    "train_size = int(dataset_size * 0.7)\n",
    "\n",
    "\n",
    "X_train = x[:train_size]\n",
    "x_test = x[train_size:]\n",
    "\n",
    "print(X_train.shape, x_test.shape)\n",
    "\n",
    "# Tạo 10 tập dữ kiệu k chồng chéo của X_train .\n",
    "\n",
    "split = X_train.shape[0]//10\n",
    "\n",
    "print(split)\n",
    "\n",
    "for counter in range(0, X_train.shape[0], split):\n",
    "    print(X_train[counter:counter+split].shape)\n",
    "\n",
    "# BTVN: Input, output, explain bài trên\n"
   ]
  }
 ],
 "metadata": {
  "kernelspec": {
   "display_name": "Python 3",
   "language": "python",
   "name": "python3"
  },
  "language_info": {
   "codemirror_mode": {
    "name": "ipython",
    "version": 3
   },
   "file_extension": ".py",
   "mimetype": "text/x-python",
   "name": "python",
   "nbconvert_exporter": "python",
   "pygments_lexer": "ipython3",
   "version": "3.12.6"
  }
 },
 "nbformat": 4,
 "nbformat_minor": 2
}
